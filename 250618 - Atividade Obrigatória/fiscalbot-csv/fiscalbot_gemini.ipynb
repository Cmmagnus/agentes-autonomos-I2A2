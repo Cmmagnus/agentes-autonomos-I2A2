{
 "cells": [
  {
   "cell_type": "markdown",
   "id": "d0665fa5",
   "metadata": {},
   "source": [
    "# 📊 FiscalBot Gemini – Análise Inteligente de CSV com IA"
   ]
  },
  {
   "cell_type": "code",
   "execution_count": 1,
   "id": "60133b3a",
   "metadata": {},
   "outputs": [],
   "source": [
    "# ✅ Instalação das bibliotecas necessárias\n",
    "!pip install -q pandas python-dotenv langchain langchain-google-genai google-generativeai rich\n",
    "\n",
    "# 📦 Explicação das bibliotecas:\n",
    "# - pandas: biblioteca para leitura e manipulação de dados estruturados (como arquivos CSV)\n",
    "# - python-dotenv: permite carregar variáveis sensíveis como chaves de API de arquivos .env\n",
    "# - langchain: framework para conectar modelos de linguagem (LLMs) a aplicações\n",
    "# - langchain-google-genai: extensão do LangChain para uso com a API Gemini (Google)\n",
    "# - google-generativeai: SDK oficial do Google para acesso direto ao modelo Gemini\n",
    "# - rich: biblioteca para saída visual mais agradável e estilizada no terminal ou notebook\n"
   ]
  },
  {
   "cell_type": "code",
   "execution_count": 2,
   "id": "ecee23fa",
   "metadata": {},
   "outputs": [
    {
     "name": "stderr",
     "output_type": "stream",
     "text": [
      "c:\\Users\\Usuário\\AppData\\Local\\Programs\\Python\\Python313\\Lib\\site-packages\\tqdm\\auto.py:21: TqdmWarning: IProgress not found. Please update jupyter and ipywidgets. See https://ipywidgets.readthedocs.io/en/stable/user_install.html\n",
      "  from .autonotebook import tqdm as notebook_tqdm\n"
     ]
    }
   ],
   "source": [
    "# ✅ Imports essenciais\n",
    "\n",
    "# 🔒 Módulo padrão para interagir com variáveis de ambiente e sistema de arquivos\n",
    "import os\n",
    "\n",
    "# 📊 Biblioteca para leitura, manipulação e análise de dados tabulares (como CSVs)\n",
    "import pandas as pd\n",
    "\n",
    "# 🤖 SDK oficial da Google para acesso direto aos modelos da família Gemini\n",
    "import google.generativeai as genai\n",
    "\n",
    "# 🔐 Carregamento de variáveis do arquivo .env para dentro do ambiente do Python\n",
    "from dotenv import load_dotenv\n",
    "\n",
    "# 🔁 Integração do LangChain com a API do Gemini (GoogleGenerativeAI)\n",
    "from langchain_google_genai import GoogleGenerativeAI\n",
    "\n",
    "# 🧩 Componente de template do LangChain: estrutura o prompt com variáveis\n",
    "from langchain.prompts import PromptTemplate\n",
    "\n",
    "# 🔗 Cadeia LLM do LangChain: conecta o modelo LLM ao prompt de forma funcional\n",
    "from langchain.chains import LLMChain\n",
    "\n",
    "# 🎨 Biblioteca para exibir saídas estilizadas no terminal (texto colorido, painéis, etc.)\n",
    "from rich.console import Console\n",
    "from rich.panel import Panel\n",
    "from rich.text import Text\n",
    "\n",
    "# 🖥️ Inicializa o console estilizado para exibição rica no terminal\n",
    "console = Console()\n"
   ]
  },
  {
   "cell_type": "code",
   "execution_count": 3,
   "id": "d710bfc6",
   "metadata": {},
   "outputs": [
    {
     "data": {
      "text/html": [
       "<pre style=\"white-space:pre;overflow-x:auto;line-height:normal;font-family:Menlo,'DejaVu Sans Mono',consolas,'Courier New',monospace\">╭─────────────────────────────────────────────────── Chave OK ────────────────────────────────────────────────────╮\n",
       "│ <span style=\"color: #008000; text-decoration-color: #008000\">🔑 Chave carregada: AIza...4WgM</span>                                                                                 │\n",
       "╰─────────────────────────────────────────────────────────────────────────────────────────────────────────────────╯\n",
       "</pre>\n"
      ],
      "text/plain": [
       "╭─────────────────────────────────────────────────── Chave OK ────────────────────────────────────────────────────╮\n",
       "│ \u001b[32m🔑 Chave carregada: AIza...4WgM\u001b[0m                                                                                 │\n",
       "╰─────────────────────────────────────────────────────────────────────────────────────────────────────────────────╯\n"
      ]
     },
     "metadata": {},
     "output_type": "display_data"
    }
   ],
   "source": [
    "# ✅ Carregamento de variáveis de ambiente\n",
    "\n",
    "# 🔄 Carrega as variáveis definidas no arquivo .env (como a chave da API Gemini) para o ambiente Python\n",
    "load_dotenv()\n",
    "\n",
    "# 🔐 Recupera a chave da API Gemini armazenada na variável de ambiente GEMINI_API_KEY\n",
    "gemini_api_key = os.getenv(\"GEMINI_API_KEY\")\n",
    "\n",
    "# ⚠️ Verifica se a chave foi carregada corretamente\n",
    "if not gemini_api_key:\n",
    "    # ❌ Exibe uma mensagem de erro formatada caso a chave não seja encontrada\n",
    "    console.print(Panel(\n",
    "        \"[red]❌ ERRO: Chave da API Gemini não encontrada no arquivo .env[/red]\",\n",
    "        title=\"FALHA\"\n",
    "    ))\n",
    "else:\n",
    "    # ✅ Exibe uma mensagem de sucesso com os primeiros e últimos 4 dígitos da chave, ocultando o restante\n",
    "    console.print(Panel(\n",
    "        f\"[green]🔑 Chave carregada: {gemini_api_key[:4]}...{gemini_api_key[-4:]}[/green]\",\n",
    "        title=\"Chave OK\"\n",
    "    ))\n",
    "# 🔐 Observação: Isso garante segurança (não exibe a chave completa) e usabilidade (informa visualmente o status do carregamento da chave).\n"
   ]
  },
  {
   "cell_type": "code",
   "execution_count": 4,
   "id": "14ce7143",
   "metadata": {},
   "outputs": [
    {
     "name": "stderr",
     "output_type": "stream",
     "text": [
      "C:\\Users\\Usuário\\AppData\\Local\\Temp\\ipykernel_11588\\3466358861.py:30: LangChainDeprecationWarning: The class `LLMChain` was deprecated in LangChain 0.1.17 and will be removed in 1.0. Use :meth:`~RunnableSequence, e.g., `prompt | llm`` instead.\n",
      "  chain = LLMChain(llm=llm, prompt=prompt)\n"
     ]
    }
   ],
   "source": [
    "# ✅ Configuração do modelo Gemini via LangChain\n",
    "\n",
    "# 🤖 Inicializa o modelo de linguagem (LLM) usando a API Gemini da Google, via LangChain\n",
    "llm = GoogleGenerativeAI(\n",
    "    model=\"models/gemini-1.5-flash\",   # Modelo escolhido (leve, rápido e gratuito para contas padrão)\n",
    "    google_api_key=gemini_api_key,     # Chave da API carregada anteriormente do arquivo .env\n",
    "    temperature=0                      # Temperatura 0 = respostas mais determinísticas e precisas\n",
    ")\n",
    "\n",
    "# 🧠 Template de prompt: define como será estruturada a pergunta enviada ao modelo\n",
    "template = \"\"\"\n",
    "Você é um analista fiscal inteligente.\n",
    "\n",
    "Com base nos dados a seguir:\n",
    "\n",
    "{contexto}\n",
    "\n",
    "Responda à pergunta:\n",
    "{pergunta}\n",
    "\"\"\"\n",
    "\n",
    "# 🧩 Define o objeto de prompt usando o LangChain\n",
    "prompt = PromptTemplate(\n",
    "    input_variables=[\"contexto\", \"pergunta\"],  # Variáveis que serão substituídas dinamicamente\n",
    "    template=template                          # Estrutura textual base\n",
    ")\n",
    "\n",
    "# 🔗 Constrói a cadeia LLMChain: conecta o modelo (llm) ao prompt (template)\n",
    "# Essa cadeia recebe entrada (pergunta + contexto) e retorna a resposta gerada\n",
    "chain = LLMChain(llm=llm, prompt=prompt)\n",
    "\n",
    "# 💡 Essa arquitetura leve baseada em LLMChain é mais compatível com a API Gemini do que o uso de agentes tradicionais (AgentExecutor), que geram erros de campo (\"thought\", \"action\", etc.).\n"
   ]
  },
  {
   "cell_type": "code",
   "execution_count": 5,
   "id": "653c3a8a",
   "metadata": {},
   "outputs": [],
   "source": [
    "# ✅ O agente lê e seleciona os dados, pronto para consultas.\n",
    "\n",
    "# 📦 Importa a biblioteca padrão para manipulação de arquivos ZIP\n",
    "import zipfile\n",
    "\n",
    "# 🔓 Abre o arquivo compactado contendo os CSVs das notas fiscais\n",
    "with zipfile.ZipFile(\"data/202401_NFs.zip\", 'r') as zip_ref:\n",
    "    # 📂 Extrai o conteúdo do ZIP para dentro da pasta destino especificada\n",
    "    zip_ref.extractall(\"data/202401_NFs/\")\n"
   ]
  },
  {
   "cell_type": "code",
   "execution_count": 6,
   "id": "93ecb163",
   "metadata": {},
   "outputs": [
    {
     "data": {
      "text/html": [
       "<pre style=\"white-space:pre;overflow-x:auto;line-height:normal;font-family:Menlo,'DejaVu Sans Mono',consolas,'Courier New',monospace\">╭──────────────────────────────────────────── Arquivos CSV carregados ────────────────────────────────────────────╮\n",
       "│ 📄 Cabeçalho: (100, 21)                                                                                         │\n",
       "│ 📦 Itens: (565, 27)                                                                                             │\n",
       "╰─────────────────────────────────────────────────────────────────────────────────────────────────────────────────╯\n",
       "</pre>\n"
      ],
      "text/plain": [
       "╭──────────────────────────────────────────── Arquivos CSV carregados ────────────────────────────────────────────╮\n",
       "│ 📄 Cabeçalho: (100, 21)                                                                                         │\n",
       "│ 📦 Itens: (565, 27)                                                                                             │\n",
       "╰─────────────────────────────────────────────────────────────────────────────────────────────────────────────────╯\n"
      ]
     },
     "metadata": {},
     "output_type": "display_data"
    }
   ],
   "source": [
    "# ✅ Leitura dos arquivos CSV\n",
    "\n",
    "# 📄 Carrega o arquivo CSV contendo os dados gerais das notas fiscais (cabeçalho: fornecedor, valor, data etc.)\n",
    "df_cabecalho = pd.read_csv('data/202401_NFs/202401_NFs_Cabecalho.csv')\n",
    "\n",
    "# 📦 Carrega o arquivo CSV contendo os dados detalhados dos itens das notas (descrição, quantidade, valor unitário etc.)\n",
    "df_itens = pd.read_csv('data/202401_NFs/202401_NFs_Itens.csv')\n",
    "\n",
    "# 📊 Exibe a dimensão dos DataFrames carregados (linhas x colunas) no terminal, com estilo visual\n",
    "console.print(\n",
    "    Panel(\n",
    "        f\"📄 Cabeçalho: {df_cabecalho.shape}\\n📦 Itens: {df_itens.shape}\",\n",
    "        title=\"Arquivos CSV carregados\"\n",
    "    )\n",
    ")\n",
    "\n",
    "# 🔍 Dica: .shape retorna uma tupla (n_linhas, n_colunas) — útil para validação rápida da integridade dos dados após a leitura.\n"
   ]
  },
  {
   "cell_type": "code",
   "execution_count": 10,
   "id": "b690c529",
   "metadata": {},
   "outputs": [
    {
     "data": {
      "text/html": [
       "<pre style=\"white-space:pre;overflow-x:auto;line-height:normal;font-family:Menlo,'DejaVu Sans Mono',consolas,'Courier New',monospace\"><span style=\"color: #008000; text-decoration-color: #008000\">╭───────────────────────────────────────────── 📢 Resposta do agente ─────────────────────────────────────────────╮</span>\n",
       "<span style=\"color: #008000; text-decoration-color: #008000\">│</span> Com base nos dados fornecidos, a **COMPANHIA BRASILEIRA DE EDUC. E SIST. DE ENS. S.A - PR OP** recebeu o maior  <span style=\"color: #008000; text-decoration-color: #008000\">│</span>\n",
       "<span style=\"color: #008000; text-decoration-color: #008000\">│</span> montante, com R$ 522,50.  Embora a segunda nota fiscal tenha um valor total maior (R$ 499,00),  a primeira nota <span style=\"color: #008000; text-decoration-color: #008000\">│</span>\n",
       "<span style=\"color: #008000; text-decoration-color: #008000\">│</span> fiscal, emitida pela COMPANHIA BRASILEIRA DE EDUC. E SIST. DE ENS. S.A - PR OP,  é superior.                    <span style=\"color: #008000; text-decoration-color: #008000\">│</span>\n",
       "<span style=\"color: #008000; text-decoration-color: #008000\">│</span>                                                                                                                 <span style=\"color: #008000; text-decoration-color: #008000\">│</span>\n",
       "<span style=\"color: #008000; text-decoration-color: #008000\">╰─────────────────────────────────────────────────────────────────────────────────────────────────────────────────╯</span>\n",
       "</pre>\n"
      ],
      "text/plain": [
       "\u001b[32m╭─\u001b[0m\u001b[32m────────────────────────────────────────────\u001b[0m\u001b[32m 📢 Resposta do agente \u001b[0m\u001b[32m────────────────────────────────────────────\u001b[0m\u001b[32m─╮\u001b[0m\n",
       "\u001b[32m│\u001b[0m Com base nos dados fornecidos, a **COMPANHIA BRASILEIRA DE EDUC. E SIST. DE ENS. S.A - PR OP** recebeu o maior  \u001b[32m│\u001b[0m\n",
       "\u001b[32m│\u001b[0m montante, com R$ 522,50.  Embora a segunda nota fiscal tenha um valor total maior (R$ 499,00),  a primeira nota \u001b[32m│\u001b[0m\n",
       "\u001b[32m│\u001b[0m fiscal, emitida pela COMPANHIA BRASILEIRA DE EDUC. E SIST. DE ENS. S.A - PR OP,  é superior.                    \u001b[32m│\u001b[0m\n",
       "\u001b[32m│\u001b[0m                                                                                                                 \u001b[32m│\u001b[0m\n",
       "\u001b[32m╰─────────────────────────────────────────────────────────────────────────────────────────────────────────────────╯\u001b[0m\n"
      ]
     },
     "metadata": {},
     "output_type": "display_data"
    },
    {
     "data": {
      "text/html": [
       "<pre style=\"white-space:pre;overflow-x:auto;line-height:normal;font-family:Menlo,'DejaVu Sans Mono',consolas,'Courier New',monospace\"><span style=\"color: #008000; text-decoration-color: #008000\">╭───────────────────────────────────────────── 📢 Resposta do agente ─────────────────────────────────────────────╮</span>\n",
       "<span style=\"color: #008000; text-decoration-color: #008000\">│</span> O item com maior quantidade entregue foi o \"CINEMATICO RODO-AR\" (item 2 da segunda nota fiscal), com 4 peças.   <span style=\"color: #008000; text-decoration-color: #008000\">│</span>\n",
       "<span style=\"color: #008000; text-decoration-color: #008000\">│</span>                                                                                                                 <span style=\"color: #008000; text-decoration-color: #008000\">│</span>\n",
       "<span style=\"color: #008000; text-decoration-color: #008000\">╰─────────────────────────────────────────────────────────────────────────────────────────────────────────────────╯</span>\n",
       "</pre>\n"
      ],
      "text/plain": [
       "\u001b[32m╭─\u001b[0m\u001b[32m────────────────────────────────────────────\u001b[0m\u001b[32m 📢 Resposta do agente \u001b[0m\u001b[32m────────────────────────────────────────────\u001b[0m\u001b[32m─╮\u001b[0m\n",
       "\u001b[32m│\u001b[0m O item com maior quantidade entregue foi o \"CINEMATICO RODO-AR\" (item 2 da segunda nota fiscal), com 4 peças.   \u001b[32m│\u001b[0m\n",
       "\u001b[32m│\u001b[0m                                                                                                                 \u001b[32m│\u001b[0m\n",
       "\u001b[32m╰─────────────────────────────────────────────────────────────────────────────────────────────────────────────────╯\u001b[0m\n"
      ]
     },
     "metadata": {},
     "output_type": "display_data"
    },
    {
     "data": {
      "text/html": [
       "<pre style=\"white-space:pre;overflow-x:auto;line-height:normal;font-family:Menlo,'DejaVu Sans Mono',consolas,'Courier New',monospace\"><span style=\"color: #008000; text-decoration-color: #008000\">╭───────────────────────────────────────────── 📢 Resposta do agente ─────────────────────────────────────────────╮</span>\n",
       "<span style=\"color: #008000; text-decoration-color: #008000\">│</span> Nenhuma nota fiscal foi emitida em 2024-01-10.  Os dados fornecidos mostram notas emitidas em 2024-01-18,       <span style=\"color: #008000; text-decoration-color: #008000\">│</span>\n",
       "<span style=\"color: #008000; text-decoration-color: #008000\">│</span> 2024-01-26 e 2024-01-22.                                                                                        <span style=\"color: #008000; text-decoration-color: #008000\">│</span>\n",
       "<span style=\"color: #008000; text-decoration-color: #008000\">│</span>                                                                                                                 <span style=\"color: #008000; text-decoration-color: #008000\">│</span>\n",
       "<span style=\"color: #008000; text-decoration-color: #008000\">╰─────────────────────────────────────────────────────────────────────────────────────────────────────────────────╯</span>\n",
       "</pre>\n"
      ],
      "text/plain": [
       "\u001b[32m╭─\u001b[0m\u001b[32m────────────────────────────────────────────\u001b[0m\u001b[32m 📢 Resposta do agente \u001b[0m\u001b[32m────────────────────────────────────────────\u001b[0m\u001b[32m─╮\u001b[0m\n",
       "\u001b[32m│\u001b[0m Nenhuma nota fiscal foi emitida em 2024-01-10.  Os dados fornecidos mostram notas emitidas em 2024-01-18,       \u001b[32m│\u001b[0m\n",
       "\u001b[32m│\u001b[0m 2024-01-26 e 2024-01-22.                                                                                        \u001b[32m│\u001b[0m\n",
       "\u001b[32m│\u001b[0m                                                                                                                 \u001b[32m│\u001b[0m\n",
       "\u001b[32m╰─────────────────────────────────────────────────────────────────────────────────────────────────────────────────╯\u001b[0m\n"
      ]
     },
     "metadata": {},
     "output_type": "display_data"
    },
    {
     "data": {
      "text/html": [
       "<pre style=\"white-space:pre;overflow-x:auto;line-height:normal;font-family:Menlo,'DejaVu Sans Mono',consolas,'Courier New',monospace\"><span style=\"color: #008000; text-decoration-color: #008000\">╭───────────────────────────────────────────── 📢 Resposta do agente ─────────────────────────────────────────────╮</span>\n",
       "<span style=\"color: #008000; text-decoration-color: #008000\">│</span> A média do valor das notas fiscais emitidas é de R$ 453,50.  Este valor foi calculado somando os valores das    <span style=\"color: #008000; text-decoration-color: #008000\">│</span>\n",
       "<span style=\"color: #008000; text-decoration-color: #008000\">│</span> três notas (522,5 + 499,0 + 337,5 = 1359,0) e dividindo pelo número de notas (3).                               <span style=\"color: #008000; text-decoration-color: #008000\">│</span>\n",
       "<span style=\"color: #008000; text-decoration-color: #008000\">│</span>                                                                                                                 <span style=\"color: #008000; text-decoration-color: #008000\">│</span>\n",
       "<span style=\"color: #008000; text-decoration-color: #008000\">╰─────────────────────────────────────────────────────────────────────────────────────────────────────────────────╯</span>\n",
       "</pre>\n"
      ],
      "text/plain": [
       "\u001b[32m╭─\u001b[0m\u001b[32m────────────────────────────────────────────\u001b[0m\u001b[32m 📢 Resposta do agente \u001b[0m\u001b[32m────────────────────────────────────────────\u001b[0m\u001b[32m─╮\u001b[0m\n",
       "\u001b[32m│\u001b[0m A média do valor das notas fiscais emitidas é de R$ 453,50.  Este valor foi calculado somando os valores das    \u001b[32m│\u001b[0m\n",
       "\u001b[32m│\u001b[0m três notas (522,5 + 499,0 + 337,5 = 1359,0) e dividindo pelo número de notas (3).                               \u001b[32m│\u001b[0m\n",
       "\u001b[32m│\u001b[0m                                                                                                                 \u001b[32m│\u001b[0m\n",
       "\u001b[32m╰─────────────────────────────────────────────────────────────────────────────────────────────────────────────────╯\u001b[0m\n"
      ]
     },
     "metadata": {},
     "output_type": "display_data"
    },
    {
     "name": "stdout",
     "output_type": "stream",
     "text": [
      "👋 Encerrando o agente fiscal.\n"
     ]
    }
   ],
   "source": [
    "# 🔁 Loop contínuo para interação com o usuário\n",
    "while True:\n",
    "    # 🟢 Entrada de uma pergunta do usuário via terminal\n",
    "    pergunta = input(\"🟢 Digite sua pergunta (ou 'sair'): \").strip()\n",
    "    \n",
    "    # 🔚 Condição de saída: se o usuário digitar 'sair', encerra o agente\n",
    "    if pergunta.lower() == \"sair\":\n",
    "        print(\"👋 Encerrando o agente fiscal.\")\n",
    "        break\n",
    "\n",
    "    # 📄 Geração de contexto para o modelo de linguagem\n",
    "    # Aqui são usadas as 3 primeiras linhas de cada DataFrame (cabeçalho e itens)\n",
    "    # Isso fornece ao modelo um \"resumo\" da estrutura dos dados reais\n",
    "    contexto = (\n",
    "        f\"Cabecalho:\\n{df_cabecalho.head(3).to_string(index=False)}\"\n",
    "        f\"\\n\\nItens:\\n{df_itens.head(3).to_string(index=False)}\"\n",
    "    )\n",
    "\n",
    "    try:\n",
    "        # 🤖 Executa a cadeia LLMChain passando o contexto e a pergunta do usuário\n",
    "        resposta = chain.run({\"contexto\": contexto, \"pergunta\": pergunta})\n",
    "        \n",
    "        # ✅ Exibe a resposta em um painel estilizado usando a biblioteca Rich\n",
    "        console.print(Panel(resposta, title=\"📢 Resposta do agente\", border_style=\"green\"))\n",
    "\n",
    "    except Exception as e:\n",
    "        # ❌ Exibe mensagem de erro estilizada caso a execução falhe\n",
    "        console.print(Panel(f\"[red]Erro:[/red] {e}\", title=\"❌ Falha\"))\n"
   ]
  }
 ],
 "metadata": {
  "kernelspec": {
   "display_name": "Python 3",
   "language": "python",
   "name": "python3"
  },
  "language_info": {
   "codemirror_mode": {
    "name": "ipython",
    "version": 3
   },
   "file_extension": ".py",
   "mimetype": "text/x-python",
   "name": "python",
   "nbconvert_exporter": "python",
   "pygments_lexer": "ipython3",
   "version": "3.13.5"
  }
 },
 "nbformat": 4,
 "nbformat_minor": 5
}
